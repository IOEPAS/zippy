{
 "cells": [
  {
   "cell_type": "code",
   "execution_count": 1,
   "metadata": {},
   "outputs": [],
   "source": [
    "import pandas as pd\n",
    "import numpy as np\n",
    "import nltk\n",
    "import string, re\n",
    "from sklearn.feature_extraction.text import CountVectorizer\n",
    "%matplotlib inline"
   ]
  },
  {
   "cell_type": "code",
   "execution_count": 2,
   "metadata": {},
   "outputs": [],
   "source": [
    "import time, sys\n",
    "from IPython.display import clear_output\n",
    "def update_progress(progress):\n",
    "    bar_length = 20\n",
    "    if isinstance(progress, int):\n",
    "        progress = float(progress)\n",
    "    if not isinstance(progress, float):\n",
    "        progress = 0\n",
    "    if progress < 0:\n",
    "        progress = 0\n",
    "    if progress >= 1:\n",
    "        progress = 1\n",
    "    block = int(round(bar_length * progress))\n",
    "    clear_output(wait = True)\n",
    "    text = \"Progress: [{0}] {1:.1f}%\".format( \"#\" * block + \"-\" * (bar_length - block), progress * 100)\n",
    "    print(text)"
   ]
  },
  {
   "cell_type": "code",
   "execution_count": 3,
   "metadata": {},
   "outputs": [
    {
     "data": {
      "text/html": [
       "<div>\n",
       "<style scoped>\n",
       "    .dataframe tbody tr th:only-of-type {\n",
       "        vertical-align: middle;\n",
       "    }\n",
       "\n",
       "    .dataframe tbody tr th {\n",
       "        vertical-align: top;\n",
       "    }\n",
       "\n",
       "    .dataframe thead th {\n",
       "        text-align: right;\n",
       "    }\n",
       "</style>\n",
       "<table border=\"1\" class=\"dataframe\">\n",
       "  <thead>\n",
       "    <tr style=\"text-align: right;\">\n",
       "      <th></th>\n",
       "      <th>Date</th>\n",
       "      <th>From</th>\n",
       "      <th>To</th>\n",
       "      <th>Subject</th>\n",
       "      <th>X-From</th>\n",
       "      <th>X-To</th>\n",
       "      <th>X-cc</th>\n",
       "      <th>X-bcc</th>\n",
       "      <th>X-Folder</th>\n",
       "      <th>X-Origin</th>\n",
       "      <th>X-FileName</th>\n",
       "      <th>content</th>\n",
       "      <th>user</th>\n",
       "    </tr>\n",
       "    <tr>\n",
       "      <th>Message-ID</th>\n",
       "      <th></th>\n",
       "      <th></th>\n",
       "      <th></th>\n",
       "      <th></th>\n",
       "      <th></th>\n",
       "      <th></th>\n",
       "      <th></th>\n",
       "      <th></th>\n",
       "      <th></th>\n",
       "      <th></th>\n",
       "      <th></th>\n",
       "      <th></th>\n",
       "      <th></th>\n",
       "    </tr>\n",
       "  </thead>\n",
       "  <tbody>\n",
       "    <tr>\n",
       "      <th>&lt;18782981.1075855378110.JavaMail.evans@thyme&gt;</th>\n",
       "      <td>2001-05-14 23:39:00</td>\n",
       "      <td>(phillip.allen@enron.com)</td>\n",
       "      <td>(tim.belden@enron.com)</td>\n",
       "      <td></td>\n",
       "      <td>Phillip K Allen</td>\n",
       "      <td>Tim Belden &lt;Tim Belden/Enron@EnronXGate&gt;</td>\n",
       "      <td></td>\n",
       "      <td></td>\n",
       "      <td>\\Phillip_Allen_Jan2002_1\\Allen, Phillip K.\\'Se...</td>\n",
       "      <td>Allen-P</td>\n",
       "      <td>pallen (Non-Privileged).pst</td>\n",
       "      <td>Here is our forecast\\n\\n</td>\n",
       "      <td>allen-p</td>\n",
       "    </tr>\n",
       "    <tr>\n",
       "      <th>&lt;15464986.1075855378456.JavaMail.evans@thyme&gt;</th>\n",
       "      <td>2001-05-04 20:51:00</td>\n",
       "      <td>(phillip.allen@enron.com)</td>\n",
       "      <td>(john.lavorato@enron.com)</td>\n",
       "      <td>Re:</td>\n",
       "      <td>Phillip K Allen</td>\n",
       "      <td>John J Lavorato &lt;John J Lavorato/ENRON@enronXg...</td>\n",
       "      <td></td>\n",
       "      <td></td>\n",
       "      <td>\\Phillip_Allen_Jan2002_1\\Allen, Phillip K.\\'Se...</td>\n",
       "      <td>Allen-P</td>\n",
       "      <td>pallen (Non-Privileged).pst</td>\n",
       "      <td>Traveling to have a business meeting takes the...</td>\n",
       "      <td>allen-p</td>\n",
       "    </tr>\n",
       "    <tr>\n",
       "      <th>&lt;24216240.1075855687451.JavaMail.evans@thyme&gt;</th>\n",
       "      <td>2000-10-18 10:00:00</td>\n",
       "      <td>(phillip.allen@enron.com)</td>\n",
       "      <td>(leah.arsdall@enron.com)</td>\n",
       "      <td>Re: test</td>\n",
       "      <td>Phillip K Allen</td>\n",
       "      <td>Leah Van Arsdall</td>\n",
       "      <td></td>\n",
       "      <td></td>\n",
       "      <td>\\Phillip_Allen_Dec2000\\Notes Folders\\'sent mail</td>\n",
       "      <td>Allen-P</td>\n",
       "      <td>pallen.nsf</td>\n",
       "      <td>test successful.  way to go!!!</td>\n",
       "      <td>allen-p</td>\n",
       "    </tr>\n",
       "    <tr>\n",
       "      <th>&lt;13505866.1075863688222.JavaMail.evans@thyme&gt;</th>\n",
       "      <td>2000-10-23 13:13:00</td>\n",
       "      <td>(phillip.allen@enron.com)</td>\n",
       "      <td>(randall.gay@enron.com)</td>\n",
       "      <td></td>\n",
       "      <td>Phillip K Allen</td>\n",
       "      <td>Randall L Gay</td>\n",
       "      <td></td>\n",
       "      <td></td>\n",
       "      <td>\\Phillip_Allen_Dec2000\\Notes Folders\\'sent mail</td>\n",
       "      <td>Allen-P</td>\n",
       "      <td>pallen.nsf</td>\n",
       "      <td>Randy,\\n\\n Can you send me a schedule of the s...</td>\n",
       "      <td>allen-p</td>\n",
       "    </tr>\n",
       "    <tr>\n",
       "      <th>&lt;30922949.1075863688243.JavaMail.evans@thyme&gt;</th>\n",
       "      <td>2000-08-31 12:07:00</td>\n",
       "      <td>(phillip.allen@enron.com)</td>\n",
       "      <td>(greg.piper@enron.com)</td>\n",
       "      <td>Re: Hello</td>\n",
       "      <td>Phillip K Allen</td>\n",
       "      <td>Greg Piper</td>\n",
       "      <td></td>\n",
       "      <td></td>\n",
       "      <td>\\Phillip_Allen_Dec2000\\Notes Folders\\'sent mail</td>\n",
       "      <td>Allen-P</td>\n",
       "      <td>pallen.nsf</td>\n",
       "      <td>Let's shoot for Tuesday at 11:45.</td>\n",
       "      <td>allen-p</td>\n",
       "    </tr>\n",
       "  </tbody>\n",
       "</table>\n",
       "</div>"
      ],
      "text/plain": [
       "                                                             Date  \\\n",
       "Message-ID                                                          \n",
       "<18782981.1075855378110.JavaMail.evans@thyme> 2001-05-14 23:39:00   \n",
       "<15464986.1075855378456.JavaMail.evans@thyme> 2001-05-04 20:51:00   \n",
       "<24216240.1075855687451.JavaMail.evans@thyme> 2000-10-18 10:00:00   \n",
       "<13505866.1075863688222.JavaMail.evans@thyme> 2000-10-23 13:13:00   \n",
       "<30922949.1075863688243.JavaMail.evans@thyme> 2000-08-31 12:07:00   \n",
       "\n",
       "                                                                    From  \\\n",
       "Message-ID                                                                 \n",
       "<18782981.1075855378110.JavaMail.evans@thyme>  (phillip.allen@enron.com)   \n",
       "<15464986.1075855378456.JavaMail.evans@thyme>  (phillip.allen@enron.com)   \n",
       "<24216240.1075855687451.JavaMail.evans@thyme>  (phillip.allen@enron.com)   \n",
       "<13505866.1075863688222.JavaMail.evans@thyme>  (phillip.allen@enron.com)   \n",
       "<30922949.1075863688243.JavaMail.evans@thyme>  (phillip.allen@enron.com)   \n",
       "\n",
       "                                                                      To  \\\n",
       "Message-ID                                                                 \n",
       "<18782981.1075855378110.JavaMail.evans@thyme>     (tim.belden@enron.com)   \n",
       "<15464986.1075855378456.JavaMail.evans@thyme>  (john.lavorato@enron.com)   \n",
       "<24216240.1075855687451.JavaMail.evans@thyme>   (leah.arsdall@enron.com)   \n",
       "<13505866.1075863688222.JavaMail.evans@thyme>    (randall.gay@enron.com)   \n",
       "<30922949.1075863688243.JavaMail.evans@thyme>     (greg.piper@enron.com)   \n",
       "\n",
       "                                                 Subject           X-From  \\\n",
       "Message-ID                                                                  \n",
       "<18782981.1075855378110.JavaMail.evans@thyme>             Phillip K Allen   \n",
       "<15464986.1075855378456.JavaMail.evans@thyme>        Re:  Phillip K Allen   \n",
       "<24216240.1075855687451.JavaMail.evans@thyme>   Re: test  Phillip K Allen   \n",
       "<13505866.1075863688222.JavaMail.evans@thyme>             Phillip K Allen   \n",
       "<30922949.1075863688243.JavaMail.evans@thyme>  Re: Hello  Phillip K Allen   \n",
       "\n",
       "                                                                                            X-To  \\\n",
       "Message-ID                                                                                         \n",
       "<18782981.1075855378110.JavaMail.evans@thyme>           Tim Belden <Tim Belden/Enron@EnronXGate>   \n",
       "<15464986.1075855378456.JavaMail.evans@thyme>  John J Lavorato <John J Lavorato/ENRON@enronXg...   \n",
       "<24216240.1075855687451.JavaMail.evans@thyme>                                   Leah Van Arsdall   \n",
       "<13505866.1075863688222.JavaMail.evans@thyme>                                      Randall L Gay   \n",
       "<30922949.1075863688243.JavaMail.evans@thyme>                                         Greg Piper   \n",
       "\n",
       "                                              X-cc X-bcc  \\\n",
       "Message-ID                                                 \n",
       "<18782981.1075855378110.JavaMail.evans@thyme>              \n",
       "<15464986.1075855378456.JavaMail.evans@thyme>              \n",
       "<24216240.1075855687451.JavaMail.evans@thyme>              \n",
       "<13505866.1075863688222.JavaMail.evans@thyme>              \n",
       "<30922949.1075863688243.JavaMail.evans@thyme>              \n",
       "\n",
       "                                                                                        X-Folder  \\\n",
       "Message-ID                                                                                         \n",
       "<18782981.1075855378110.JavaMail.evans@thyme>  \\Phillip_Allen_Jan2002_1\\Allen, Phillip K.\\'Se...   \n",
       "<15464986.1075855378456.JavaMail.evans@thyme>  \\Phillip_Allen_Jan2002_1\\Allen, Phillip K.\\'Se...   \n",
       "<24216240.1075855687451.JavaMail.evans@thyme>    \\Phillip_Allen_Dec2000\\Notes Folders\\'sent mail   \n",
       "<13505866.1075863688222.JavaMail.evans@thyme>    \\Phillip_Allen_Dec2000\\Notes Folders\\'sent mail   \n",
       "<30922949.1075863688243.JavaMail.evans@thyme>    \\Phillip_Allen_Dec2000\\Notes Folders\\'sent mail   \n",
       "\n",
       "                                              X-Origin  \\\n",
       "Message-ID                                               \n",
       "<18782981.1075855378110.JavaMail.evans@thyme>  Allen-P   \n",
       "<15464986.1075855378456.JavaMail.evans@thyme>  Allen-P   \n",
       "<24216240.1075855687451.JavaMail.evans@thyme>  Allen-P   \n",
       "<13505866.1075863688222.JavaMail.evans@thyme>  Allen-P   \n",
       "<30922949.1075863688243.JavaMail.evans@thyme>  Allen-P   \n",
       "\n",
       "                                                                X-FileName  \\\n",
       "Message-ID                                                                   \n",
       "<18782981.1075855378110.JavaMail.evans@thyme>  pallen (Non-Privileged).pst   \n",
       "<15464986.1075855378456.JavaMail.evans@thyme>  pallen (Non-Privileged).pst   \n",
       "<24216240.1075855687451.JavaMail.evans@thyme>                   pallen.nsf   \n",
       "<13505866.1075863688222.JavaMail.evans@thyme>                   pallen.nsf   \n",
       "<30922949.1075863688243.JavaMail.evans@thyme>                   pallen.nsf   \n",
       "\n",
       "                                                                                         content  \\\n",
       "Message-ID                                                                                         \n",
       "<18782981.1075855378110.JavaMail.evans@thyme>                          Here is our forecast\\n\\n    \n",
       "<15464986.1075855378456.JavaMail.evans@thyme>  Traveling to have a business meeting takes the...   \n",
       "<24216240.1075855687451.JavaMail.evans@thyme>                     test successful.  way to go!!!   \n",
       "<13505866.1075863688222.JavaMail.evans@thyme>  Randy,\\n\\n Can you send me a schedule of the s...   \n",
       "<30922949.1075863688243.JavaMail.evans@thyme>                Let's shoot for Tuesday at 11:45.     \n",
       "\n",
       "                                                  user  \n",
       "Message-ID                                              \n",
       "<18782981.1075855378110.JavaMail.evans@thyme>  allen-p  \n",
       "<15464986.1075855378456.JavaMail.evans@thyme>  allen-p  \n",
       "<24216240.1075855687451.JavaMail.evans@thyme>  allen-p  \n",
       "<13505866.1075863688222.JavaMail.evans@thyme>  allen-p  \n",
       "<30922949.1075863688243.JavaMail.evans@thyme>  allen-p  "
      ]
     },
     "execution_count": 3,
     "metadata": {},
     "output_type": "execute_result"
    }
   ],
   "source": [
    "data = '../../data/interim/enron-dataset-clean-v1.pkl'\n",
    "emails = pd.read_pickle(data)\n",
    "emails.head()"
   ]
  },
  {
   "cell_type": "code",
   "execution_count": 4,
   "metadata": {},
   "outputs": [
    {
     "data": {
      "text/plain": [
       "(517401, 3)"
      ]
     },
     "execution_count": 4,
     "metadata": {},
     "output_type": "execute_result"
    }
   ],
   "source": [
    "priority_df = emails.loc[:, ['Date', 'From', 'Subject', 'content']]\n",
    "priority_df.set_index('Date', inplace=True)\n",
    "priority_df.sort_index(inplace=True)\n",
    "priority_df.loc[:, ['Subject', 'content']] = priority_df.loc[:, ['Subject', 'content']].apply(lambda x: x.str.lower())\n",
    "priority_df.shape"
   ]
  },
  {
   "cell_type": "code",
   "execution_count": 5,
   "metadata": {},
   "outputs": [
    {
     "data": {
      "text/html": [
       "<div>\n",
       "<style scoped>\n",
       "    .dataframe tbody tr th:only-of-type {\n",
       "        vertical-align: middle;\n",
       "    }\n",
       "\n",
       "    .dataframe tbody tr th {\n",
       "        vertical-align: top;\n",
       "    }\n",
       "\n",
       "    .dataframe thead th {\n",
       "        text-align: right;\n",
       "    }\n",
       "</style>\n",
       "<table border=\"1\" class=\"dataframe\">\n",
       "  <thead>\n",
       "    <tr style=\"text-align: right;\">\n",
       "      <th></th>\n",
       "      <th>From</th>\n",
       "      <th>Subject</th>\n",
       "      <th>content</th>\n",
       "    </tr>\n",
       "    <tr>\n",
       "      <th>Date</th>\n",
       "      <th></th>\n",
       "      <th></th>\n",
       "      <th></th>\n",
       "    </tr>\n",
       "  </thead>\n",
       "  <tbody>\n",
       "    <tr>\n",
       "      <th>1980-01-01</th>\n",
       "      <td>(outlook.team@enron.com)</td>\n",
       "      <td>3 - urgent - to prevent loss of information</td>\n",
       "      <td>critical migration information:\\n\\n1. your sch...</td>\n",
       "    </tr>\n",
       "    <tr>\n",
       "      <th>1980-01-01</th>\n",
       "      <td>(rosalee.fleming@enron.com)</td>\n",
       "      <td>university of houston reception</td>\n",
       "      <td>calling all alumni!\\n       \\nuniversity of ho...</td>\n",
       "    </tr>\n",
       "    <tr>\n",
       "      <th>1980-01-01</th>\n",
       "      <td>(tori.wells@enron.com)</td>\n",
       "      <td>re: update from cousins in missouri</td>\n",
       "      <td>letter dictated by ken lay\\n\\n\\n\\nhello janice...</td>\n",
       "    </tr>\n",
       "    <tr>\n",
       "      <th>1980-01-01</th>\n",
       "      <td>(rosalee.fleming@enron.com)</td>\n",
       "      <td>re: energy tf final report</td>\n",
       "      <td>mr. sikes -\\n\\nkenneth l. lay is the chairman ...</td>\n",
       "    </tr>\n",
       "    <tr>\n",
       "      <th>1980-01-01</th>\n",
       "      <td>(kay.mann@enron.com)</td>\n",
       "      <td>re: bluedog change order #2, rev 4</td>\n",
       "      <td>hi brian,\\n\\nhere are my observations/question...</td>\n",
       "    </tr>\n",
       "  </tbody>\n",
       "</table>\n",
       "</div>"
      ],
      "text/plain": [
       "                                   From  \\\n",
       "Date                                      \n",
       "1980-01-01     (outlook.team@enron.com)   \n",
       "1980-01-01  (rosalee.fleming@enron.com)   \n",
       "1980-01-01       (tori.wells@enron.com)   \n",
       "1980-01-01  (rosalee.fleming@enron.com)   \n",
       "1980-01-01         (kay.mann@enron.com)   \n",
       "\n",
       "                                                Subject  \\\n",
       "Date                                                      \n",
       "1980-01-01  3 - urgent - to prevent loss of information   \n",
       "1980-01-01              university of houston reception   \n",
       "1980-01-01          re: update from cousins in missouri   \n",
       "1980-01-01                   re: energy tf final report   \n",
       "1980-01-01           re: bluedog change order #2, rev 4   \n",
       "\n",
       "                                                      content  \n",
       "Date                                                           \n",
       "1980-01-01  critical migration information:\\n\\n1. your sch...  \n",
       "1980-01-01  calling all alumni!\\n       \\nuniversity of ho...  \n",
       "1980-01-01  letter dictated by ken lay\\n\\n\\n\\nhello janice...  \n",
       "1980-01-01  mr. sikes -\\n\\nkenneth l. lay is the chairman ...  \n",
       "1980-01-01  hi brian,\\n\\nhere are my observations/question...  "
      ]
     },
     "execution_count": 5,
     "metadata": {},
     "output_type": "execute_result"
    }
   ],
   "source": [
    "priority_df.head()"
   ]
  },
  {
   "cell_type": "code",
   "execution_count": 6,
   "metadata": {},
   "outputs": [
    {
     "data": {
      "text/html": [
       "<div>\n",
       "<style scoped>\n",
       "    .dataframe tbody tr th:only-of-type {\n",
       "        vertical-align: middle;\n",
       "    }\n",
       "\n",
       "    .dataframe tbody tr th {\n",
       "        vertical-align: top;\n",
       "    }\n",
       "\n",
       "    .dataframe thead th {\n",
       "        text-align: right;\n",
       "    }\n",
       "</style>\n",
       "<table border=\"1\" class=\"dataframe\">\n",
       "  <thead>\n",
       "    <tr style=\"text-align: right;\">\n",
       "      <th></th>\n",
       "      <th>Subject</th>\n",
       "      <th>content</th>\n",
       "    </tr>\n",
       "    <tr>\n",
       "      <th>From</th>\n",
       "      <th></th>\n",
       "      <th></th>\n",
       "    </tr>\n",
       "  </thead>\n",
       "  <tbody>\n",
       "    <tr>\n",
       "      <th>(kay.mann@enron.com)</th>\n",
       "      <td>16735</td>\n",
       "      <td>16735</td>\n",
       "    </tr>\n",
       "    <tr>\n",
       "      <th>(vince.kaminski@enron.com)</th>\n",
       "      <td>14368</td>\n",
       "      <td>14368</td>\n",
       "    </tr>\n",
       "    <tr>\n",
       "      <th>(jeff.dasovich@enron.com)</th>\n",
       "      <td>11411</td>\n",
       "      <td>11411</td>\n",
       "    </tr>\n",
       "    <tr>\n",
       "      <th>(pete.davis@enron.com)</th>\n",
       "      <td>9149</td>\n",
       "      <td>9149</td>\n",
       "    </tr>\n",
       "    <tr>\n",
       "      <th>(chris.germany@enron.com)</th>\n",
       "      <td>8801</td>\n",
       "      <td>8801</td>\n",
       "    </tr>\n",
       "  </tbody>\n",
       "</table>\n",
       "</div>"
      ],
      "text/plain": [
       "                            Subject  content\n",
       "From                                        \n",
       "(kay.mann@enron.com)          16735    16735\n",
       "(vince.kaminski@enron.com)    14368    14368\n",
       "(jeff.dasovich@enron.com)     11411    11411\n",
       "(pete.davis@enron.com)         9149     9149\n",
       "(chris.germany@enron.com)      8801     8801"
      ]
     },
     "execution_count": 6,
     "metadata": {},
     "output_type": "execute_result"
    }
   ],
   "source": [
    "priority_df.groupby('From').aggregate('count').sort_values('Subject', ascending=False).head()"
   ]
  },
  {
   "cell_type": "code",
   "execution_count": 6,
   "metadata": {},
   "outputs": [
    {
     "name": "stdout",
     "output_type": "stream",
     "text": [
      "(465660, 3)\n",
      "(51741, 3)\n"
     ]
    }
   ],
   "source": [
    "priority_train = priority_df.iloc[:int(priority_df.shape[0]*0.9)]\n",
    "priority_test = priority_df.iloc[int(priority_df.shape[0]*0.9):]\n",
    "print(priority_train.shape)\n",
    "print(priority_test.shape)"
   ]
  },
  {
   "cell_type": "code",
   "execution_count": 11,
   "metadata": {},
   "outputs": [],
   "source": [
    "from_weight = priority_train.groupby('From', as_index=False).Subject.count()"
   ]
  },
  {
   "cell_type": "code",
   "execution_count": 12,
   "metadata": {},
   "outputs": [
    {
     "data": {
      "text/html": [
       "<div>\n",
       "<style scoped>\n",
       "    .dataframe tbody tr th:only-of-type {\n",
       "        vertical-align: middle;\n",
       "    }\n",
       "\n",
       "    .dataframe tbody tr th {\n",
       "        vertical-align: top;\n",
       "    }\n",
       "\n",
       "    .dataframe thead th {\n",
       "        text-align: right;\n",
       "    }\n",
       "</style>\n",
       "<table border=\"1\" class=\"dataframe\">\n",
       "  <thead>\n",
       "    <tr style=\"text-align: right;\">\n",
       "      <th></th>\n",
       "      <th>From</th>\n",
       "      <th>weight</th>\n",
       "    </tr>\n",
       "  </thead>\n",
       "  <tbody>\n",
       "    <tr>\n",
       "      <th>10742</th>\n",
       "      <td>(kay.mann@enron.com)</td>\n",
       "      <td>9.712872</td>\n",
       "    </tr>\n",
       "    <tr>\n",
       "      <th>10733</th>\n",
       "      <td>(vince.kaminski@enron.com)</td>\n",
       "      <td>9.572828</td>\n",
       "    </tr>\n",
       "    <tr>\n",
       "      <th>10732</th>\n",
       "      <td>(jeff.dasovich@enron.com)</td>\n",
       "      <td>9.330254</td>\n",
       "    </tr>\n",
       "    <tr>\n",
       "      <th>10703</th>\n",
       "      <td>(enron.announcements@enron.com)</td>\n",
       "      <td>9.058121</td>\n",
       "    </tr>\n",
       "    <tr>\n",
       "      <th>10718</th>\n",
       "      <td>(sara.shackleton@enron.com)</td>\n",
       "      <td>9.044758</td>\n",
       "    </tr>\n",
       "  </tbody>\n",
       "</table>\n",
       "</div>"
      ],
      "text/plain": [
       "                                  From    weight\n",
       "10742             (kay.mann@enron.com)  9.712872\n",
       "10733       (vince.kaminski@enron.com)  9.572828\n",
       "10732        (jeff.dasovich@enron.com)  9.330254\n",
       "10703  (enron.announcements@enron.com)  9.058121\n",
       "10718      (sara.shackleton@enron.com)  9.044758"
      ]
     },
     "execution_count": 12,
     "metadata": {},
     "output_type": "execute_result"
    }
   ],
   "source": [
    "from_weight['weight'] = from_weight.Subject.apply(lambda x: np.log(x+1))\n",
    "from_weight.drop('Subject', axis=1, inplace=True)\n",
    "from_weight.sort_values('weight', ascending=False).head()"
   ]
  },
  {
   "cell_type": "code",
   "execution_count": 13,
   "metadata": {},
   "outputs": [],
   "source": [
    "is_thread = priority_train.Subject.str.contains('re: ')\n",
    "threads = priority_train[is_thread]\n",
    "re_subject_split = threads.Subject.str.strip('re:')"
   ]
  },
  {
   "cell_type": "code",
   "execution_count": 14,
   "metadata": {},
   "outputs": [],
   "source": [
    "thread_matrix = pd.concat((threads['From'], re_subject_split), axis=1)"
   ]
  },
  {
   "cell_type": "code",
   "execution_count": 15,
   "metadata": {},
   "outputs": [],
   "source": [
    "thread_matrix.reset_index(inplace=True, drop=True)"
   ]
  },
  {
   "cell_type": "code",
   "execution_count": 16,
   "metadata": {},
   "outputs": [
    {
     "data": {
      "text/html": [
       "<div>\n",
       "<style scoped>\n",
       "    .dataframe tbody tr th:only-of-type {\n",
       "        vertical-align: middle;\n",
       "    }\n",
       "\n",
       "    .dataframe tbody tr th {\n",
       "        vertical-align: top;\n",
       "    }\n",
       "\n",
       "    .dataframe thead th {\n",
       "        text-align: right;\n",
       "    }\n",
       "</style>\n",
       "<table border=\"1\" class=\"dataframe\">\n",
       "  <thead>\n",
       "    <tr style=\"text-align: right;\">\n",
       "      <th></th>\n",
       "      <th>From</th>\n",
       "      <th>Subject</th>\n",
       "    </tr>\n",
       "  </thead>\n",
       "  <tbody>\n",
       "    <tr>\n",
       "      <th>0</th>\n",
       "      <td>(tori.wells@enron.com)</td>\n",
       "      <td>update from cousins in missouri</td>\n",
       "    </tr>\n",
       "    <tr>\n",
       "      <th>1</th>\n",
       "      <td>(rosalee.fleming@enron.com)</td>\n",
       "      <td>energy tf final report</td>\n",
       "    </tr>\n",
       "    <tr>\n",
       "      <th>2</th>\n",
       "      <td>(kay.mann@enron.com)</td>\n",
       "      <td>bluedog change order #2, rev 4</td>\n",
       "    </tr>\n",
       "    <tr>\n",
       "      <th>3</th>\n",
       "      <td>(susan.scott@enron.com)</td>\n",
       "      <td>erms traders in enpow</td>\n",
       "    </tr>\n",
       "    <tr>\n",
       "      <th>4</th>\n",
       "      <td>(sherri.sera@enron.com)</td>\n",
       "      <td>your not</td>\n",
       "    </tr>\n",
       "  </tbody>\n",
       "</table>\n",
       "</div>"
      ],
      "text/plain": [
       "                          From                           Subject\n",
       "0       (tori.wells@enron.com)   update from cousins in missouri\n",
       "1  (rosalee.fleming@enron.com)            energy tf final report\n",
       "2         (kay.mann@enron.com)    bluedog change order #2, rev 4\n",
       "3      (susan.scott@enron.com)             erms traders in enpow\n",
       "4      (sherri.sera@enron.com)                          your not"
      ]
     },
     "execution_count": 16,
     "metadata": {},
     "output_type": "execute_result"
    }
   ],
   "source": [
    "thread_matrix.head()"
   ]
  },
  {
   "cell_type": "code",
   "execution_count": 17,
   "metadata": {},
   "outputs": [],
   "source": [
    "thread_senders = thread_matrix.iloc[:, 0]\n",
    "senders_freq = thread_senders.groupby(thread_senders).count()"
   ]
  },
  {
   "cell_type": "code",
   "execution_count": 18,
   "metadata": {},
   "outputs": [],
   "source": [
    "senders_dict = {\n",
    "    'From': senders_freq.index.tolist(),\n",
    "    'freq': list(senders_freq.values),\n",
    "    'weight': list(senders_freq.transform(lambda x: np.log(x+1)))\n",
    "}"
   ]
  },
  {
   "cell_type": "code",
   "execution_count": 19,
   "metadata": {},
   "outputs": [],
   "source": [
    "senders_weight = pd.DataFrame(senders_dict)"
   ]
  },
  {
   "cell_type": "code",
   "execution_count": 20,
   "metadata": {},
   "outputs": [
    {
     "data": {
      "text/html": [
       "<div>\n",
       "<style scoped>\n",
       "    .dataframe tbody tr th:only-of-type {\n",
       "        vertical-align: middle;\n",
       "    }\n",
       "\n",
       "    .dataframe tbody tr th {\n",
       "        vertical-align: top;\n",
       "    }\n",
       "\n",
       "    .dataframe thead th {\n",
       "        text-align: right;\n",
       "    }\n",
       "</style>\n",
       "<table border=\"1\" class=\"dataframe\">\n",
       "  <thead>\n",
       "    <tr style=\"text-align: right;\">\n",
       "      <th></th>\n",
       "      <th>From</th>\n",
       "      <th>freq</th>\n",
       "      <th>weight</th>\n",
       "    </tr>\n",
       "  </thead>\n",
       "  <tbody>\n",
       "    <tr>\n",
       "      <th>0</th>\n",
       "      <td>(tori.wells@enron.com)</td>\n",
       "      <td>27</td>\n",
       "      <td>3.332205</td>\n",
       "    </tr>\n",
       "    <tr>\n",
       "      <th>1</th>\n",
       "      <td>(lys@a-klaw.com)</td>\n",
       "      <td>2</td>\n",
       "      <td>1.098612</td>\n",
       "    </tr>\n",
       "    <tr>\n",
       "      <th>2</th>\n",
       "      <td>(geresj@tdusa.com)</td>\n",
       "      <td>1</td>\n",
       "      <td>0.693147</td>\n",
       "    </tr>\n",
       "    <tr>\n",
       "      <th>3</th>\n",
       "      <td>(lga@mother.com)</td>\n",
       "      <td>2</td>\n",
       "      <td>1.098612</td>\n",
       "    </tr>\n",
       "    <tr>\n",
       "      <th>4</th>\n",
       "      <td>(jeff_walker@i2.com)</td>\n",
       "      <td>4</td>\n",
       "      <td>1.609438</td>\n",
       "    </tr>\n",
       "  </tbody>\n",
       "</table>\n",
       "</div>"
      ],
      "text/plain": [
       "                     From  freq    weight\n",
       "0  (tori.wells@enron.com)    27  3.332205\n",
       "1        (lys@a-klaw.com)     2  1.098612\n",
       "2      (geresj@tdusa.com)     1  0.693147\n",
       "3        (lga@mother.com)     2  1.098612\n",
       "4    (jeff_walker@i2.com)     4  1.609438"
      ]
     },
     "execution_count": 20,
     "metadata": {},
     "output_type": "execute_result"
    }
   ],
   "source": [
    "senders_weight.head()"
   ]
  },
  {
   "cell_type": "code",
   "execution_count": 18,
   "metadata": {},
   "outputs": [],
   "source": [
    "thread_subs = thread_matrix.iloc[:, 1].unique()"
   ]
  },
  {
   "cell_type": "code",
   "execution_count": null,
   "metadata": {},
   "outputs": [],
   "source": [
    "thread_counts = {\n",
    "    'freq': [],\n",
    "    'time_span': [],\n",
    "    'weight': []\n",
    "}\n",
    "\n",
    "for thread in thread_subs:\n",
    "    thread_times = priority_train.index[priority_train.Subject.str.contains(thread, regex=False) | priority_train.Subject.str.contains('re: ' + thread, regex=False)]\n",
    "    thread_freq = len(thread_times)\n",
    "    min_time = thread_times.min()\n",
    "    max_time = thread_times.max()\n",
    "    time_span = (max_time - min_time).seconds\n",
    "    if thread_freq<2:\n",
    "        thread_counts['freq'].append(np.nan)\n",
    "        thread_counts['time_span'].append(np.nan)\n",
    "        thread_counts['weight'].append(np.nan)\n",
    "    else:\n",
    "        try:\n",
    "            weight = thread_freq / time_span\n",
    "            log_weight = 10 + np.log10(weight)\n",
    "        except ZeroDivisionError:\n",
    "            log_weight = np.mean(thread_counts['weight'])\n",
    "        thread_counts['freq'].append(thread_freq)\n",
    "        thread_counts['time_span'].append(time_span)\n",
    "        thread_counts['weight'].append(log_weight)"
   ]
  },
  {
   "cell_type": "code",
   "execution_count": null,
   "metadata": {},
   "outputs": [],
   "source": [
    "thread_weights = pd.DataFrame(thread_counts)\n",
    "thread_weights.dropna(inplace=True)\n",
    "thread_weights['thread'] = thread_matrix.iloc[:, 1]"
   ]
  },
  {
   "cell_type": "code",
   "execution_count": 22,
   "metadata": {},
   "outputs": [
    {
     "data": {
      "text/html": [
       "<div>\n",
       "<style scoped>\n",
       "    .dataframe tbody tr th:only-of-type {\n",
       "        vertical-align: middle;\n",
       "    }\n",
       "\n",
       "    .dataframe tbody tr th {\n",
       "        vertical-align: top;\n",
       "    }\n",
       "\n",
       "    .dataframe thead th {\n",
       "        text-align: right;\n",
       "    }\n",
       "</style>\n",
       "<table border=\"1\" class=\"dataframe\">\n",
       "  <thead>\n",
       "    <tr style=\"text-align: right;\">\n",
       "      <th></th>\n",
       "      <th>freq</th>\n",
       "      <th>time_span</th>\n",
       "      <th>weight</th>\n",
       "      <th>thread</th>\n",
       "    </tr>\n",
       "  </thead>\n",
       "  <tbody>\n",
       "    <tr>\n",
       "      <th>0</th>\n",
       "      <td>4.0</td>\n",
       "      <td>60300.0</td>\n",
       "      <td>5.821743</td>\n",
       "      <td>update from cousins in missouri</td>\n",
       "    </tr>\n",
       "    <tr>\n",
       "      <th>1</th>\n",
       "      <td>4.0</td>\n",
       "      <td>61920.0</td>\n",
       "      <td>5.810229</td>\n",
       "      <td>energy tf final report</td>\n",
       "    </tr>\n",
       "    <tr>\n",
       "      <th>2</th>\n",
       "      <td>7.0</td>\n",
       "      <td>25080.0</td>\n",
       "      <td>6.445771</td>\n",
       "      <td>your not</td>\n",
       "    </tr>\n",
       "    <tr>\n",
       "      <th>3</th>\n",
       "      <td>11.0</td>\n",
       "      <td>66389.0</td>\n",
       "      <td>6.219297</td>\n",
       "      <td>perd</td>\n",
       "    </tr>\n",
       "    <tr>\n",
       "      <th>4</th>\n",
       "      <td>12.0</td>\n",
       "      <td>33540.0</td>\n",
       "      <td>6.553618</td>\n",
       "      <td>ge releas</td>\n",
       "    </tr>\n",
       "  </tbody>\n",
       "</table>\n",
       "</div>"
      ],
      "text/plain": [
       "   freq  time_span    weight                            thread\n",
       "0   4.0    60300.0  5.821743   update from cousins in missouri\n",
       "1   4.0    61920.0  5.810229            energy tf final report\n",
       "2   7.0    25080.0  6.445771                          your not\n",
       "3  11.0    66389.0  6.219297                              perd\n",
       "4  12.0    33540.0  6.553618                         ge releas"
      ]
     },
     "execution_count": 22,
     "metadata": {},
     "output_type": "execute_result"
    }
   ],
   "source": [
    "thread_weights.head()"
   ]
  },
  {
   "cell_type": "code",
   "execution_count": 24,
   "metadata": {},
   "outputs": [],
   "source": [
    "vec = CountVectorizer(stop_words=nltk.corpus.stopwords.words('english'))"
   ]
  },
  {
   "cell_type": "code",
   "execution_count": 25,
   "metadata": {},
   "outputs": [],
   "source": [
    "thread_tdm = vec.fit_transform(thread_weights.thread)"
   ]
  },
  {
   "cell_type": "code",
   "execution_count": 26,
   "metadata": {},
   "outputs": [],
   "source": [
    "thread_tdm = pd.DataFrame(thread_tdm.toarray(), columns=vec.get_feature_names())"
   ]
  },
  {
   "cell_type": "code",
   "execution_count": 27,
   "metadata": {},
   "outputs": [],
   "source": [
    "term_weights = []\n",
    "for term in thread_tdm.columns:\n",
    "    weight = thread_weights.weight[thread_weights.thread.str.contains(term, regex=False)].mean()\n",
    "    term_weights.append(weight)"
   ]
  },
  {
   "cell_type": "code",
   "execution_count": 28,
   "metadata": {},
   "outputs": [],
   "source": [
    "thread_term_weights = pd.DataFrame.from_dict({\n",
    "    'term': thread_tdm.columns,\n",
    "    'weight': term_weights\n",
    "})"
   ]
  },
  {
   "cell_type": "code",
   "execution_count": 24,
   "metadata": {},
   "outputs": [
    {
     "data": {
      "text/html": [
       "<div>\n",
       "<style scoped>\n",
       "    .dataframe tbody tr th:only-of-type {\n",
       "        vertical-align: middle;\n",
       "    }\n",
       "\n",
       "    .dataframe tbody tr th {\n",
       "        vertical-align: top;\n",
       "    }\n",
       "\n",
       "    .dataframe thead th {\n",
       "        text-align: right;\n",
       "    }\n",
       "</style>\n",
       "<table border=\"1\" class=\"dataframe\">\n",
       "  <thead>\n",
       "    <tr style=\"text-align: right;\">\n",
       "      <th></th>\n",
       "      <th>term</th>\n",
       "      <th>weight</th>\n",
       "    </tr>\n",
       "  </thead>\n",
       "  <tbody>\n",
       "    <tr>\n",
       "      <th>251</th>\n",
       "      <td>646</td>\n",
       "      <td>10.957523</td>\n",
       "    </tr>\n",
       "    <tr>\n",
       "      <th>185</th>\n",
       "      <td>3483</td>\n",
       "      <td>10.957523</td>\n",
       "    </tr>\n",
       "    <tr>\n",
       "      <th>4055</th>\n",
       "      <td>parpak</td>\n",
       "      <td>10.483675</td>\n",
       "    </tr>\n",
       "    <tr>\n",
       "      <th>2877</th>\n",
       "      <td>informed</td>\n",
       "      <td>10.171952</td>\n",
       "    </tr>\n",
       "    <tr>\n",
       "      <th>2569</th>\n",
       "      <td>graphics</td>\n",
       "      <td>9.176091</td>\n",
       "    </tr>\n",
       "  </tbody>\n",
       "</table>\n",
       "</div>"
      ],
      "text/plain": [
       "          term     weight\n",
       "251        646  10.957523\n",
       "185       3483  10.957523\n",
       "4055    parpak  10.483675\n",
       "2877  informed  10.171952\n",
       "2569  graphics   9.176091"
      ]
     },
     "execution_count": 24,
     "metadata": {},
     "output_type": "execute_result"
    }
   ],
   "source": [
    "thread_term_weights.sort_values('weight', ascending=False).head()"
   ]
  },
  {
   "cell_type": "code",
   "execution_count": null,
   "metadata": {},
   "outputs": [],
   "source": [
    "priority_train.content = priority_train.content.str.replace('[^\\w\\s]','', regex=True)"
   ]
  },
  {
   "cell_type": "code",
   "execution_count": null,
   "metadata": {},
   "outputs": [],
   "source": [
    "priority_train.content = priority_train.content.str.replace('\\b\\d+\\b', '', regex=True)"
   ]
  },
  {
   "cell_type": "code",
   "execution_count": null,
   "metadata": {},
   "outputs": [],
   "source": [
    "vec = CountVectorizer(stop_words=nltk.corpus.stopwords.words('english'), min_df=10 )"
   ]
  },
  {
   "cell_type": "code",
   "execution_count": null,
   "metadata": {},
   "outputs": [],
   "source": [
    "msg_tdm = vec.fit_transform(priority_train.content)"
   ]
  },
  {
   "cell_type": "code",
   "execution_count": null,
   "metadata": {},
   "outputs": [],
   "source": [
    "msg_tdm = pd.SparseDataFrame(msg_tdm)"
   ]
  },
  {
   "cell_type": "code",
   "execution_count": null,
   "metadata": {},
   "outputs": [],
   "source": [
    "msg_tdm.columns = vec.get_feature_names()"
   ]
  },
  {
   "cell_type": "code",
   "execution_count": null,
   "metadata": {},
   "outputs": [],
   "source": [
    "msg_terms = pd.DataFrame.from_dict({\n",
    "    'term': vec.get_feature_names(),\n",
    "    'freq': list(msg_tdm.sum())\n",
    "})"
   ]
  },
  {
   "cell_type": "code",
   "execution_count": null,
   "metadata": {},
   "outputs": [],
   "source": [
    "msg_terms['weight'] = msg_terms.freq.apply(lambda x: np.log(x))"
   ]
  },
  {
   "cell_type": "code",
   "execution_count": 26,
   "metadata": {},
   "outputs": [
    {
     "data": {
      "text/html": [
       "<div>\n",
       "<style scoped>\n",
       "    .dataframe tbody tr th:only-of-type {\n",
       "        vertical-align: middle;\n",
       "    }\n",
       "\n",
       "    .dataframe tbody tr th {\n",
       "        vertical-align: top;\n",
       "    }\n",
       "\n",
       "    .dataframe thead th {\n",
       "        text-align: right;\n",
       "    }\n",
       "</style>\n",
       "<table border=\"1\" class=\"dataframe\">\n",
       "  <thead>\n",
       "    <tr style=\"text-align: right;\">\n",
       "      <th></th>\n",
       "      <th>freq</th>\n",
       "      <th>term</th>\n",
       "      <th>weight</th>\n",
       "    </tr>\n",
       "  </thead>\n",
       "  <tbody>\n",
       "    <tr>\n",
       "      <th>21802</th>\n",
       "      <td>16.0</td>\n",
       "      <td>720300</td>\n",
       "      <td>2.772589</td>\n",
       "    </tr>\n",
       "    <tr>\n",
       "      <th>24107</th>\n",
       "      <td>10.0</td>\n",
       "      <td>9164410496</td>\n",
       "      <td>2.302585</td>\n",
       "    </tr>\n",
       "    <tr>\n",
       "      <th>21924</th>\n",
       "      <td>191.0</td>\n",
       "      <td>732</td>\n",
       "      <td>5.252273</td>\n",
       "    </tr>\n",
       "    <tr>\n",
       "      <th>29932</th>\n",
       "      <td>3829.0</td>\n",
       "      <td>apologize</td>\n",
       "      <td>8.250359</td>\n",
       "    </tr>\n",
       "    <tr>\n",
       "      <th>8281</th>\n",
       "      <td>22.0</td>\n",
       "      <td>17times</td>\n",
       "      <td>3.091042</td>\n",
       "    </tr>\n",
       "  </tbody>\n",
       "</table>\n",
       "</div>"
      ],
      "text/plain": [
       "         freq        term    weight\n",
       "21802    16.0      720300  2.772589\n",
       "24107    10.0  9164410496  2.302585\n",
       "21924   191.0         732  5.252273\n",
       "29932  3829.0   apologize  8.250359\n",
       "8281     22.0     17times  3.091042"
      ]
     },
     "execution_count": 26,
     "metadata": {},
     "output_type": "execute_result"
    }
   ],
   "source": [
    "msg_terms.iloc[np.random.randint(0, 40000, size=(5, )), :]"
   ]
  },
  {
   "cell_type": "code",
   "execution_count": 8,
   "metadata": {},
   "outputs": [],
   "source": [
    "def get_weights(search_term, weight_df, term=True):\n",
    "    search_term = str(search_term)\n",
    "    if (len(search_term)>0):\n",
    "        if term:\n",
    "            term_match = False\n",
    "            for search_item in search_term:\n",
    "                match = weight_df.term.str.contains(search_item, regex=False)\n",
    "                term_match = term_match | match\n",
    "        else:\n",
    "            term_match = weight_df.thread.str.contains(search_term, regex=False)\n",
    "        \n",
    "        match_weights = weight_df.weight[term_match]\n",
    "        if len(match_weights)<1:\n",
    "            return 1\n",
    "        else:\n",
    "            return match_weights.mean()\n",
    "    else:\n",
    "        return 1"
   ]
  },
  {
   "cell_type": "code",
   "execution_count": 9,
   "metadata": {},
   "outputs": [],
   "source": [
    "def rank_message(msg):\n",
    "    # First, using the from weights\n",
    "    from_wt = from_weight[from_weight['From']==msg['From']]\n",
    "    if len(from_wt)>0:\n",
    "        msg_from_wt = from_wt.weight\n",
    "    else:\n",
    "        msg_from_wt = 1\n",
    "    \n",
    "    # Second, using senders weights from threads\n",
    "    senders_wt = senders_weight[senders_weight['From']==msg['From']]\n",
    "    if len(senders_wt)>0:\n",
    "        msg_thread_from_wt = senders_wt.weight\n",
    "    else:\n",
    "        msg_thread_from_wt = 1\n",
    "        \n",
    "    # Then, from thread activity\n",
    "    is_thread = len(msg.Subject.split('re: ')) > 1\n",
    "    if is_thread:\n",
    "        subject = msg.Subject.split('re: ')[1]\n",
    "        msg_thread_activity_wt = get_weights(subject, thread_weights, term=False)\n",
    "    else:\n",
    "        msg_thread_activity_wt = 1\n",
    "        \n",
    "    # Then, weights based on terms in threads\n",
    "    try:\n",
    "        sub_vec = vec.fit_transform([msg['Subject']])\n",
    "        msg_thread_terms = vec.get_feature_names()\n",
    "        msg_thread_term_wt = get_weights(msg_thread_terms, thread_term_weights)\n",
    "    except:\n",
    "        # Some subjects from the test set result in empty vocabulary\n",
    "        msg_thread_term_wt = 1\n",
    "    \n",
    "    # Then, weights based on terms in message\n",
    "    try:\n",
    "        msg_vec = vec.fit_transform([msg['content']])\n",
    "        msg_terms = vec.get_feature_names()\n",
    "        msg_terms_wt = get_weights(msg_terms, msg_term_weights)\n",
    "    except:\n",
    "        # Some subjects from the test set result in empty vocabulary\n",
    "        msg_terms_wt = 1\n",
    "    \n",
    "    # Calculating Rank\n",
    "    rank = float(msg_from_wt) * float(msg_thread_from_wt) * float(msg_thread_activity_wt) * float(msg_thread_term_wt) * float(msg_terms_wt)\n",
    "    \n",
    "    return [msg.name, msg['From'], msg['Subject'], rank]"
   ]
  },
  {
   "cell_type": "code",
   "execution_count": 52,
   "metadata": {},
   "outputs": [
    {
     "name": "stdout",
     "output_type": "stream",
     "text": [
      "Progress: [####################] 100.0%\n"
     ]
    }
   ],
   "source": [
    "rank_dict = {\n",
    "    'date': [],\n",
    "    'from': [],\n",
    "    'subject': [],\n",
    "    'rank': []\n",
    "}\n",
    "\n",
    "for i in range(priority_train.shape[0]):\n",
    "    result = rank_message(priority_train.iloc[i, :])\n",
    "    rank_dict['date'].append(result[0])\n",
    "    rank_dict['from'].append(result[1])\n",
    "    rank_dict['subject'].append(result[2])\n",
    "    rank_dict['rank'].append(result[3])\n",
    "    update_progress(i/priority_train.shape[0])"
   ]
  },
  {
   "cell_type": "code",
   "execution_count": 53,
   "metadata": {},
   "outputs": [],
   "source": [
    "rank_df = pd.DataFrame.from_dict(rank_dict)"
   ]
  },
  {
   "cell_type": "code",
   "execution_count": 3,
   "metadata": {},
   "outputs": [
    {
     "name": "stdout",
     "output_type": "stream",
     "text": [
      "170.61861518695991\n"
     ]
    }
   ],
   "source": [
    "priority_threshold = rank_df['rank'].median()\n",
    "print(priority_threshold)"
   ]
  },
  {
   "cell_type": "code",
   "execution_count": 4,
   "metadata": {},
   "outputs": [],
   "source": [
    "rank_df['priority'] = rank_df['rank']>priority_threshold"
   ]
  },
  {
   "cell_type": "code",
   "execution_count": 13,
   "metadata": {},
   "outputs": [
    {
     "data": {
      "text/html": [
       "<div>\n",
       "<style scoped>\n",
       "    .dataframe tbody tr th:only-of-type {\n",
       "        vertical-align: middle;\n",
       "    }\n",
       "\n",
       "    .dataframe tbody tr th {\n",
       "        vertical-align: top;\n",
       "    }\n",
       "\n",
       "    .dataframe thead th {\n",
       "        text-align: right;\n",
       "    }\n",
       "</style>\n",
       "<table border=\"1\" class=\"dataframe\">\n",
       "  <thead>\n",
       "    <tr style=\"text-align: right;\">\n",
       "      <th></th>\n",
       "      <th>date</th>\n",
       "      <th>from</th>\n",
       "      <th>rank</th>\n",
       "      <th>subject</th>\n",
       "    </tr>\n",
       "  </thead>\n",
       "  <tbody>\n",
       "    <tr>\n",
       "      <th>0</th>\n",
       "      <td>1980-01-01</td>\n",
       "      <td>(outlook.team@enron.com)</td>\n",
       "      <td>179.459524</td>\n",
       "      <td>3 - urgent - to prevent loss of information</td>\n",
       "    </tr>\n",
       "    <tr>\n",
       "      <th>1</th>\n",
       "      <td>1980-01-01</td>\n",
       "      <td>(rosalee.fleming@enron.com)</td>\n",
       "      <td>310.673189</td>\n",
       "      <td>university of houston reception</td>\n",
       "    </tr>\n",
       "    <tr>\n",
       "      <th>2</th>\n",
       "      <td>1980-01-01</td>\n",
       "      <td>(tori.wells@enron.com)</td>\n",
       "      <td>594.246703</td>\n",
       "      <td>re: update from cousins in missouri</td>\n",
       "    </tr>\n",
       "    <tr>\n",
       "      <th>3</th>\n",
       "      <td>1980-01-01</td>\n",
       "      <td>(rosalee.fleming@enron.com)</td>\n",
       "      <td>1804.662818</td>\n",
       "      <td>re: energy tf final report</td>\n",
       "    </tr>\n",
       "    <tr>\n",
       "      <th>4</th>\n",
       "      <td>1980-01-01</td>\n",
       "      <td>(kay.mann@enron.com)</td>\n",
       "      <td>590.674601</td>\n",
       "      <td>re: bluedog change order #2, rev 4</td>\n",
       "    </tr>\n",
       "  </tbody>\n",
       "</table>\n",
       "</div>"
      ],
      "text/plain": [
       "        date                         from         rank  \\\n",
       "0 1980-01-01     (outlook.team@enron.com)   179.459524   \n",
       "1 1980-01-01  (rosalee.fleming@enron.com)   310.673189   \n",
       "2 1980-01-01       (tori.wells@enron.com)   594.246703   \n",
       "3 1980-01-01  (rosalee.fleming@enron.com)  1804.662818   \n",
       "4 1980-01-01         (kay.mann@enron.com)   590.674601   \n",
       "\n",
       "                                       subject  \n",
       "0  3 - urgent - to prevent loss of information  \n",
       "1              university of houston reception  \n",
       "2          re: update from cousins in missouri  \n",
       "3                   re: energy tf final report  \n",
       "4           re: bluedog change order #2, rev 4  "
      ]
     },
     "execution_count": 13,
     "metadata": {},
     "output_type": "execute_result"
    }
   ],
   "source": [
    "rank_df.head()"
   ]
  },
  {
   "cell_type": "code",
   "execution_count": 61,
   "metadata": {},
   "outputs": [
    {
     "data": {
      "text/html": [
       "<div>\n",
       "<style scoped>\n",
       "    .dataframe tbody tr th:only-of-type {\n",
       "        vertical-align: middle;\n",
       "    }\n",
       "\n",
       "    .dataframe tbody tr th {\n",
       "        vertical-align: top;\n",
       "    }\n",
       "\n",
       "    .dataframe thead th {\n",
       "        text-align: right;\n",
       "    }\n",
       "</style>\n",
       "<table border=\"1\" class=\"dataframe\">\n",
       "  <thead>\n",
       "    <tr style=\"text-align: right;\">\n",
       "      <th></th>\n",
       "      <th>date</th>\n",
       "      <th>from</th>\n",
       "      <th>rank</th>\n",
       "      <th>subject</th>\n",
       "      <th>priority</th>\n",
       "    </tr>\n",
       "  </thead>\n",
       "  <tbody>\n",
       "    <tr>\n",
       "      <th>5</th>\n",
       "      <td>1980-01-01</td>\n",
       "      <td>(john.griffith@enron.com)</td>\n",
       "      <td>154.973708</td>\n",
       "      <td>don't forget to register!</td>\n",
       "      <td>False</td>\n",
       "    </tr>\n",
       "    <tr>\n",
       "      <th>9</th>\n",
       "      <td>1980-01-01</td>\n",
       "      <td>(john.griffith@enron.com)</td>\n",
       "      <td>154.973708</td>\n",
       "      <td>don't forget to register!</td>\n",
       "      <td>False</td>\n",
       "    </tr>\n",
       "    <tr>\n",
       "      <th>12</th>\n",
       "      <td>1980-01-01</td>\n",
       "      <td>(doug.gilbert-smith@enron.com)</td>\n",
       "      <td>56.325155</td>\n",
       "      <td>send in your registration card</td>\n",
       "      <td>False</td>\n",
       "    </tr>\n",
       "    <tr>\n",
       "      <th>13</th>\n",
       "      <td>1980-01-01</td>\n",
       "      <td>(phillip.allen@enron.com)</td>\n",
       "      <td>50.406585</td>\n",
       "      <td></td>\n",
       "      <td>False</td>\n",
       "    </tr>\n",
       "    <tr>\n",
       "      <th>20</th>\n",
       "      <td>1980-01-01</td>\n",
       "      <td>(don.baughman@enron.com)</td>\n",
       "      <td>107.951010</td>\n",
       "      <td>supplies for sailing trip jan. 27</td>\n",
       "      <td>False</td>\n",
       "    </tr>\n",
       "  </tbody>\n",
       "</table>\n",
       "</div>"
      ],
      "text/plain": [
       "         date                            from        rank  \\\n",
       "5  1980-01-01       (john.griffith@enron.com)  154.973708   \n",
       "9  1980-01-01       (john.griffith@enron.com)  154.973708   \n",
       "12 1980-01-01  (doug.gilbert-smith@enron.com)   56.325155   \n",
       "13 1980-01-01       (phillip.allen@enron.com)   50.406585   \n",
       "20 1980-01-01        (don.baughman@enron.com)  107.951010   \n",
       "\n",
       "                              subject  priority  \n",
       "5           don't forget to register!     False  \n",
       "9           don't forget to register!     False  \n",
       "12     send in your registration card     False  \n",
       "13                                        False  \n",
       "20  supplies for sailing trip jan. 27     False  "
      ]
     },
     "execution_count": 61,
     "metadata": {},
     "output_type": "execute_result"
    }
   ],
   "source": [
    "rank_df[~rank_df['priority']].head()"
   ]
  },
  {
   "cell_type": "code",
   "execution_count": 7,
   "metadata": {},
   "outputs": [
    {
     "data": {
      "text/plain": [
       "<matplotlib.axes._subplots.AxesSubplot at 0x7f1c688167b8>"
      ]
     },
     "execution_count": 7,
     "metadata": {},
     "output_type": "execute_result"
    },
    {
     "data": {
      "image/png": "[encoded data removed]",
      "text/plain": [
       "<matplotlib.figure.Figure at 0x7f1c74e36978>"
      ]
     },
     "metadata": {},
     "output_type": "display_data"
    }
   ],
   "source": [
    "rank_df['rank'].plot.hist(bins=20)"
   ]
  },
  {
   "cell_type": "code",
   "execution_count": 6,
   "metadata": {},
   "outputs": [
    {
     "data": {
      "text/plain": [
       "<matplotlib.axes._subplots.AxesSubplot at 0x7fea34ada128>"
      ]
     },
     "execution_count": 6,
     "metadata": {},
     "output_type": "execute_result"
    },
    {
     "data": {
      "image/png": "[encoded data removed]",
      "text/plain": [
       "<Figure size 432x288 with 1 Axes>"
      ]
     },
     "metadata": {
      "needs_background": "light"
     },
     "output_type": "display_data"
    }
   ],
   "source": [
    "rank_df['rank'].plot.density()"
   ]
  },
  {
   "cell_type": "code",
   "execution_count": 27,
   "metadata": {},
   "outputs": [
    {
     "name": "stdout",
     "output_type": "stream",
     "text": [
      "Progress: [####################] 100.0%\n"
     ]
    }
   ],
   "source": [
    "test_rank_dict = {\n",
    "    'date': [],\n",
    "    'from': [],\n",
    "    'subject': [],\n",
    "    'rank': []\n",
    "}\n",
    "\n",
    "for i in range(priority_test.shape[0]):\n",
    "    result = rank_message(priority_test.iloc[i, :])\n",
    "    test_rank_dict['date'].append(result[0])\n",
    "    test_rank_dict['from'].append(result[1])\n",
    "    test_rank_dict['subject'].append(result[2])\n",
    "    test_rank_dict['rank'].append(result[3])\n",
    "    update_progress(i/priority_test.shape[0])"
   ]
  },
  {
   "cell_type": "code",
   "execution_count": 28,
   "metadata": {},
   "outputs": [],
   "source": [
    "test_rank_df = pd.DataFrame.from_dict(test_rank_dict)"
   ]
  },
  {
   "cell_type": "code",
   "execution_count": 25,
   "metadata": {},
   "outputs": [
    {
     "name": "stdout",
     "output_type": "stream",
     "text": [
      "6.650229808226872\n"
     ]
    }
   ],
   "source": [
    "priority_threshold = test_rank_df['rank'].median()\n",
    "print(priority_threshold)"
   ]
  },
  {
   "cell_type": "code",
   "execution_count": 26,
   "metadata": {},
   "outputs": [],
   "source": [
    "test_rank_df['priority'] = test_rank_df['rank']>priority_threshold"
   ]
  },
  {
   "cell_type": "code",
   "execution_count": 29,
   "metadata": {},
   "outputs": [
    {
     "data": {
      "text/html": [
       "<div>\n",
       "<style scoped>\n",
       "    .dataframe tbody tr th:only-of-type {\n",
       "        vertical-align: middle;\n",
       "    }\n",
       "\n",
       "    .dataframe tbody tr th {\n",
       "        vertical-align: top;\n",
       "    }\n",
       "\n",
       "    .dataframe thead th {\n",
       "        text-align: right;\n",
       "    }\n",
       "</style>\n",
       "<table border=\"1\" class=\"dataframe\">\n",
       "  <thead>\n",
       "    <tr style=\"text-align: right;\">\n",
       "      <th></th>\n",
       "      <th>date</th>\n",
       "      <th>from</th>\n",
       "      <th>rank</th>\n",
       "      <th>subject</th>\n",
       "      <th>priority</th>\n",
       "    </tr>\n",
       "  </thead>\n",
       "  <tbody>\n",
       "    <tr>\n",
       "      <th>3</th>\n",
       "      <td>2001-11-27 01:39:16</td>\n",
       "      <td>(christian.yoder@enron.com)</td>\n",
       "      <td>22.676505</td>\n",
       "      <td>hyda index -2</td>\n",
       "      <td>True</td>\n",
       "    </tr>\n",
       "    <tr>\n",
       "      <th>9</th>\n",
       "      <td>2001-11-27 01:56:04</td>\n",
       "      <td>(s..bradford@enron.com)</td>\n",
       "      <td>15.506970</td>\n",
       "      <td>fw: physical gas collections 11/26/01</td>\n",
       "      <td>True</td>\n",
       "    </tr>\n",
       "    <tr>\n",
       "      <th>10</th>\n",
       "      <td>2001-11-27 01:56:07</td>\n",
       "      <td>(ken.e.randolph@dynegy.com)</td>\n",
       "      <td>17.738310</td>\n",
       "      <td>re: lunch</td>\n",
       "      <td>True</td>\n",
       "    </tr>\n",
       "    <tr>\n",
       "      <th>11</th>\n",
       "      <td>2001-11-27 01:56:38</td>\n",
       "      <td>(mariella.mahan@enron.com)</td>\n",
       "      <td>7.117388</td>\n",
       "      <td>fw: guam information</td>\n",
       "      <td>True</td>\n",
       "    </tr>\n",
       "    <tr>\n",
       "      <th>15</th>\n",
       "      <td>2001-11-27 01:58:02</td>\n",
       "      <td>(cara.semperger@enron.com)</td>\n",
       "      <td>28.390146</td>\n",
       "      <td>re: dart product</td>\n",
       "      <td>True</td>\n",
       "    </tr>\n",
       "  </tbody>\n",
       "</table>\n",
       "</div>"
      ],
      "text/plain": [
       "                  date                         from       rank  \\\n",
       "3  2001-11-27 01:39:16  (christian.yoder@enron.com)  22.676505   \n",
       "9  2001-11-27 01:56:04      (s..bradford@enron.com)  15.506970   \n",
       "10 2001-11-27 01:56:07  (ken.e.randolph@dynegy.com)  17.738310   \n",
       "11 2001-11-27 01:56:38   (mariella.mahan@enron.com)   7.117388   \n",
       "15 2001-11-27 01:58:02   (cara.semperger@enron.com)  28.390146   \n",
       "\n",
       "                                  subject  priority  \n",
       "3                           hyda index -2      True  \n",
       "9   fw: physical gas collections 11/26/01      True  \n",
       "10                              re: lunch      True  \n",
       "11                   fw: guam information      True  \n",
       "15                       re: dart product      True  "
      ]
     },
     "execution_count": 29,
     "metadata": {},
     "output_type": "execute_result"
    }
   ],
   "source": [
    "test_rank_df[test_rank_df.priority].head()"
   ]
  },
  {
   "cell_type": "code",
   "execution_count": 23,
   "metadata": {},
   "outputs": [
    {
     "data": {
      "text/plain": [
       "<matplotlib.axes._subplots.AxesSubplot at 0x7fea2418cd68>"
      ]
     },
     "execution_count": 23,
     "metadata": {},
     "output_type": "execute_result"
    },
    {
     "data": {
      "image/png": "[encoded data removed]",
      "text/plain": [
       "<Figure size 432x288 with 1 Axes>"
      ]
     },
     "metadata": {
      "needs_background": "light"
     },
     "output_type": "display_data"
    }
   ],
   "source": [
    "test_rank_df['rank'].plot.hist(bins=50)"
   ]
  },
  {
   "cell_type": "code",
   "execution_count": 24,
   "metadata": {},
   "outputs": [
    {
     "data": {
      "text/plain": [
       "<matplotlib.axes._subplots.AxesSubplot at 0x7fea23631588>"
      ]
     },
     "execution_count": 24,
     "metadata": {},
     "output_type": "execute_result"
    },
    {
     "data": {
      "image/png": "[encoded data removed]",
      "text/plain": [
       "<Figure size 432x288 with 1 Axes>"
      ]
     },
     "metadata": {
      "needs_background": "light"
     },
     "output_type": "display_data"
    }
   ],
   "source": [
    "test_rank_df['rank'].plot.density()"
   ]
  },
  {
   "cell_type": "code",
   "execution_count": null,
   "metadata": {},
   "outputs": [],
   "source": []
  }
 ],
 "metadata": {
  "kernelspec": {
   "display_name": "Python 3",
   "language": "python",
   "name": "python3"
  },
  "language_info": {
   "codemirror_mode": {
    "name": "ipython",
    "version": 3
   },
   "file_extension": ".py",
   "mimetype": "text/x-python",
   "name": "python",
   "nbconvert_exporter": "python",
   "pygments_lexer": "ipython3",
   "version": "3.6.8"
  }
 },
 "nbformat": 4,
 "nbformat_minor": 2
}
